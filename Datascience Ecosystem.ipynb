{
 "cells": [
  {
   "cell_type": "markdown",
   "id": "6ac87c9b",
   "metadata": {},
   "source": [
    "# Data Science Tools and Ecosystem"
   ]
  },
  {
   "attachments": {},
   "cell_type": "markdown",
   "id": "f6658625",
   "metadata": {},
   "source": [
    "**In this notebook, Data Science Tools and Ecosystem are summarized.**\n",
    "\n",
    "#### objective:\n",
    "This course includes how to launch jyupter notebook by usin Anaconda.It also shows how to use Rstudio.\n",
    "this course shows how different languages can be used by Data scientiest."
   ]
  },
  {
   "cell_type": "markdown",
   "id": "2c069d93",
   "metadata": {},
   "source": [
    "### Some of the popular languages that Data Scientists use are:"
   ]
  },
  {
   "cell_type": "markdown",
   "id": "790509cb",
   "metadata": {},
   "source": [
    "1. python\n",
    "2. Sql\n",
    "3. Java"
   ]
  },
  {
   "cell_type": "markdown",
   "id": "45a85c97",
   "metadata": {},
   "source": [
    "### Some of the commonly used libraries used by Data Scientists include:"
   ]
  },
  {
   "attachments": {},
   "cell_type": "markdown",
   "id": "d194258d",
   "metadata": {},
   "source": [
    "1. ggplot\n",
    "2. pandas\n",
    "3. matplotlib"
   ]
  },
  {
   "cell_type": "markdown",
   "id": "d8d6d634",
   "metadata": {},
   "source": [
    "#### Data Science Tools\n",
    "_______________________\n",
    "Apache spark\n",
    "_______________________\n",
    "Jyupter notebook\n",
    "_______________________\n",
    "Hadoop"
   ]
  },
  {
   "cell_type": "markdown",
   "id": "f51dcad2",
   "metadata": {},
   "source": [
    "### Below are a few examples of evaluating arithmetic expressions in Python:"
   ]
  },
  {
   "cell_type": "code",
   "execution_count": 1,
   "id": "f61dab96",
   "metadata": {},
   "outputs": [
    {
     "data": {
      "text/plain": [
       "17"
      ]
     },
     "execution_count": 1,
     "metadata": {},
     "output_type": "execute_result"
    }
   ],
   "source": [
    "##This a simple arithmetic expression to mutiply then add integers\n",
    "\n",
    "(3*4)+5"
   ]
  },
  {
   "cell_type": "code",
   "execution_count": 2,
   "id": "b05fb00f",
   "metadata": {},
   "outputs": [
    {
     "data": {
      "text/plain": [
       "3.3333333333333335"
      ]
     },
     "execution_count": 2,
     "metadata": {},
     "output_type": "execute_result"
    }
   ],
   "source": [
    "#This will convert 200 minutes to hours by diving by 60\n",
    "\n",
    "200/60"
   ]
  },
  {
   "cell_type": "markdown",
   "id": "baf6a49b",
   "metadata": {},
   "source": [
    "# Author\n",
    "##### Name:\n",
    "***Samta Bajaj***"
   ]
  },
  {
   "cell_type": "code",
   "execution_count": null,
   "id": "8a8e1b01",
   "metadata": {},
   "outputs": [],
   "source": []
  }
 ],
 "metadata": {
  "kernelspec": {
   "display_name": "Python 3 (ipykernel)",
   "language": "python",
   "name": "python3"
  },
  "language_info": {
   "codemirror_mode": {
    "name": "ipython",
    "version": 3
   },
   "file_extension": ".py",
   "mimetype": "text/x-python",
   "name": "python",
   "nbconvert_exporter": "python",
   "pygments_lexer": "ipython3",
   "version": "3.7.7"
  }
 },
 "nbformat": 4,
 "nbformat_minor": 5
}
